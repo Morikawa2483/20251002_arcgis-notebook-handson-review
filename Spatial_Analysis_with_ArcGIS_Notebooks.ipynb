{
 "cells": [
  {
   "cell_type": "markdown",
   "metadata": {},
   "source": [
    "# ArcGIS API for Python 体験 〜 ArcGIS Notebooks を使用した解析の実行 〜"
   ]
  },
  {
   "cell_type": "markdown",
   "metadata": {
    "heading_collapsed": true
   },
   "source": [
    "## 概要\n",
    "\n",
    "ハンズオン後半では ArcGIS Notebooks を使用した GIS 解析の実行を体験します。GIS で使⽤するための Python プログラミングを学習する際には、まず⼿動でのワークフローを⾒てから、Python コードを使⽤してどのように完了するかを確認すると便利です。このハンズオンでは ArcGIS Online でコンテンツを⾒つけ、そのコンテンツを Web マップに追加し、そのコンテンツで空間解析を実⾏するというワークフローに沿って実行します。ステップ 4 までのワークフローをご覧いただいた後、ArcGIS API for Python や ArcGIS Notebooks を使ったワークフローの再現をステップ 5 から体験していただきます。\n",
    "\n",
    "目次\n",
    "* ArcGIS Online でマップを作成\n",
    "* 市区町村ごとにポイントを集約 ～ArcGIS Online～\n",
    "* 六角形のビンでポイントを集約 ～ArcGIS Online～\n",
    "* ArcGIS Notebooks を使用した Web GIS ワークフローの作成\n",
    "* 市区町村ごとにポイントを集約 ～ArcGIS Notebooks～\n",
    "* 六角形のビンでポイントを集約 ～ArcGIS Notebooks～\n",
    "* まとめ"
   ]
  },
  {
   "cell_type": "markdown",
   "metadata": {},
   "source": [
    "## ステップ 1：ArcGIS Online でマップを作成 <a class=\"anchor\" id=\"create-map-agol\"></a>"
   ]
  },
  {
   "cell_type": "markdown",
   "metadata": {},
   "source": [
    "最初に、ArcGIS Online でワークフローを試してみます。空のマップに ArcGIS Online のデータを追加します。"
   ]
  },
  {
   "cell_type": "markdown",
   "metadata": {},
   "source": [
    "1. リボンで [マップ] をクリックします。\n",
    "\n",
    "空のマップが開きます。次に、マップにコンテンツを追加します。自分のフォルダーや組織、ArcGIS Living Atlas や ArcGIS Online からコンテンツを追加することができます。"
   ]
  },
  {
   "cell_type": "markdown",
   "metadata": {},
   "source": [
    "2. メニューから [追加] > [レイヤーの参照] をクリックします。\n",
    "\n",
    "<img src=\"https://raw.githubusercontent.com/Morikawa2483/20251002_arcgis-notebook-handson-review/refs/heads/main/image/20.jpg\" width=300 />"
   ]
  },
  {
   "cell_type": "markdown",
   "metadata": {},
   "source": [
    "3. [マイ コンテンツ] をクリックして、ArcGIS Online を選択し、「全国市区町村界」と検索し、検索結果に表示される [全国市区町村界データ2025](https://esrij.maps.arcgis.com/home/item.html?id=5df2d38368a948508c42d54e24fc1e9e) レイヤーを [ + 追加] ボタンでマップに追加します。\n",
    "\n",
    "<img src=\"https://raw.githubusercontent.com/Morikawa2483/20251002_arcgis-notebook-handson-review/refs/heads/main/image/21.jpg\" width=300 />"
   ]
  },
  {
   "cell_type": "markdown",
   "metadata": {},
   "source": [
    "4. 次に、「R6_YamaguchiBear」と検索し、検索結果に表示される R6_YamaguchiBear レイヤーを [ + 追加] ボタンでマップに追加します。"
   ]
  },
  {
   "cell_type": "markdown",
   "metadata": {},
   "source": [
    "5. レイヤー メニューをクリックします。\n",
    "コンテンツ ウィンドウには、マップ内のすべてのレイヤーが⼀覧で表⽰されます。 \n",
    "マップに追加した全国市区町村界と R6_YamaguchiBear の 2 つのレイヤーがあります。R6_YamaguchiBear レイヤーは令和 6 年度の山口県のクマ出没状況を表しています。\n",
    "\n",
    "<img src=\"https://raw.githubusercontent.com/Morikawa2483/20251002_arcgis-notebook-handson-review/refs/heads/main/image/22.jpg\" width=300 />"
   ]
  },
  {
   "cell_type": "markdown",
   "metadata": {},
   "source": [
    "## ステップ 2：市区町村ごとにポイントを集約 ～ArcGIS Online～ <a class=\"anchor\" id=\"aggregate-points-agol\"></a>"
   ]
  },
  {
   "cell_type": "markdown",
   "metadata": {},
   "source": [
    "ステップ 1 で作成した地図の現在のシンボルでは、クマの出没状況に識別可能なパターンがありません。空間的な分布を理解する1つの⽅法として、市区町村ごとにデータを集約する方法があります。</br>\n",
    "現在のマップには日本全国の市区町村界データが表示されているため、まずは山口県のみの市区町村界データを表示します。"
   ]
  },
  {
   "cell_type": "markdown",
   "metadata": {},
   "source": [
    "1. 全国市区町村界レイヤーを選択した状態で画面右側のメニューから [フィルター] をクリックします。\n",
    "\n",
    "<img src=\"https://raw.githubusercontent.com/Morikawa2483/20251002_arcgis-notebook-handson-review/refs/heads/main/image/23.jpg\" width=300 />"
   ]
  },
  {
   "cell_type": "markdown",
   "metadata": {},
   "source": [
    "2. [新しく追加] をクリックし、[都道府県名] フィールドの値が「山口県」と等しくなるよう条件を入力し、[保存] をクリックします。\n",
    "\n",
    "<img src=\"https://raw.githubusercontent.com/Morikawa2483/20251002_arcgis-notebook-handson-review/refs/heads/main/image/24.jpg\" width=300 />"
   ]
  },
  {
   "cell_type": "markdown",
   "metadata": {},
   "source": [
    "マップを山口県周辺に移動すると、山口県の市区町村界のデータのみにフィルタリングされていることが確認できます。"
   ]
  },
  {
   "cell_type": "markdown",
   "metadata": {},
   "source": [
    "3. 右側のメニューから [解析] ボタンをクリックします。\n",
    "\n",
    "<img src=\"https://raw.githubusercontent.com/Morikawa2483/20251002_arcgis-notebook-handson-review/refs/heads/main/image/25.jpg\" width=300 />"
   ]
  },
  {
   "cell_type": "markdown",
   "metadata": {},
   "source": [
    "4. [ツール] ＞ [ポイントの集約] を選択します。\n",
    "\n",
    "<img src=\"https://raw.githubusercontent.com/Morikawa2483/20251002_arcgis-notebook-handson-review/refs/heads/main/image/26.jpg\" width=300 />"
   ]
  },
  {
   "cell_type": "markdown",
   "metadata": {},
   "source": [
    "5. ポイントの集約ツールでは次の操作を行います。\n",
    "    * [入力ポイント フィーチャ] に、[R6_YamaguchiBear] を選択します。\n",
    "    * [集計エリア] の [エリア タイプ] に [ポリゴン レイヤー] が選択されている状態で、[全国市区町村界データ2025] を選択し、[ポイントを含まないエリアを維持] のチェックが付いていることを確認します。\n",
    "    * [結果レイヤー] の [出力名] に「ポイントの集約」と⼊⼒し、レイヤー名が⼀意となるように、ご自身のイニシャル等を後ろに追加します。\n",
    "\n",
    "今回は、[統計の計算] パラメーターは使⽤していません。これは、選択したポリゴン レイヤー内のフィールドの統計情報を計算できるようにするオプションのパラメーターです。\n",
    "\n",
    "Note：ツールを実行する前に [推定クレジット] をクリックするとこの実行にかかるクレジットを確認することができます (今回は 0.528 クレジット) 。\n",
    "\n",
    "<img src=\"https://raw.githubusercontent.com/Morikawa2483/20251002_arcgis-notebook-handson-review/refs/heads/main/image/27.jpg\" width=300 />"
   ]
  },
  {
   "attachments": {},
   "cell_type": "markdown",
   "metadata": {},
   "source": [
    "6. レイヤー一覧でクマ出没レイヤーや市区町村界レイヤーを非表示にするとツールの結果が見やすくなります。集約されたレイヤーは、その市区町村界内でのクマ出没が多いほど、その区画内の色が濃く表示されています。\n",
    "\n",
    "<img src=\"https://raw.githubusercontent.com/Morikawa2483/20251002_arcgis-notebook-handson-review/refs/heads/main/image/28.jpg\" width=500 />"
   ]
  },
  {
   "cell_type": "markdown",
   "metadata": {
    "heading_collapsed": true
   },
   "source": [
    "## ステップ 3：六角形のビンでポイントを集約 ～ArcGIS Online～<a class=\"anchor\" id=\"aggregate-points-hexagon-agol\"></a>"
   ]
  },
  {
   "cell_type": "markdown",
   "metadata": {
    "hidden": true
   },
   "source": [
    "このステップでは、同じツールを実⾏しますが、市区町村ごとに集約するのではなく、5 km の六角形のビンごとに集約します。六角形のビンを使用することでより均⼀な⽅法でデータを集計することができます。"
   ]
  },
  {
   "cell_type": "markdown",
   "metadata": {
    "hidden": true
   },
   "source": [
    "1. [解析] ＞ [履歴] ＞ [ポイントの集約] ツールの [・・・] ＞ [ツールを開く] をクリックします。一度実行したツールを再度実行することができます。\n",
    "\n",
    "<img src=\"https://raw.githubusercontent.com/Morikawa2483/20251002_arcgis-notebook-handson-review/refs/heads/main/image/29.jpg\" width=300 />"
   ]
  },
  {
   "cell_type": "markdown",
   "metadata": {
    "hidden": true
   },
   "source": [
    "2. [集計エリア] の [エリア タイプ] で [六角形のビン] を選択し、[ビン サイズ] で「5」を入力、[ビン サイズの単位] で [キロメートル] を選択、最後に[ポイントを含まないエリアを維持] のチェックを外します。\n",
    "</br>\n",
    "\n",
    "\n",
    "\n",
    "<img src=\"https://raw.githubusercontent.com/Morikawa2483/20251002_arcgis-notebook-handson-review/refs/heads/main/image/30.jpg\" width=300 />\n",
    "</br>\n",
    "Note： [ポイントを含まないエリアを維持] のチェックをつけると、下のように山口県を内包する長方形の形で、山口県以外のエリアにも六角形のビンが生成されてしまいます。</br>\n",
    "<img src=\"https://raw.githubusercontent.com/Morikawa2483/20251002_arcgis-notebook-handson-review/refs/heads/main/image/31.jpg\" width=300 /></br>\n",
    "これを防ぐため、[ポイントを含まないエリアを維持] のチェックを外します。"
   ]
  },
  {
   "cell_type": "markdown",
   "metadata": {
    "hidden": true
   },
   "source": [
    "3. 結果レイヤーの出力名に「ポイントの集約_六角形」と⼊⼒し、レイヤー名が⼀意となるように、ご自身のイニシャル等を後ろに追加します。"
   ]
  },
  {
   "cell_type": "markdown",
   "metadata": {},
   "source": [
    "4. 推定クレジットを確認後、[実⾏] をクリックします。完了すると、レイヤーがマップに追加されます。この解析では 1.019 クレジット使用します。"
   ]
  },
  {
   "cell_type": "markdown",
   "metadata": {},
   "source": [
    "5. レイヤー一覧で他のレイヤーを非表示にするとツールの結果が見やすくなります。色が濃くなっている箇所ほどクマが出没していることを示しています。\n",
    "\n",
    "<img src=\"https://raw.githubusercontent.com/Morikawa2483/20251002_arcgis-notebook-handson-review/refs/heads/main/image/32.jpg\" width=600 />"
   ]
  },
  {
   "cell_type": "markdown",
   "metadata": {},
   "source": [
    "最後に、Web マップを保存します。\n",
    "\n",
    "6. 左側のメニューから [保存と開く] ＞ [名前を付けて保存] を選択します。\n",
    "\n",
    "<img src=\"https://raw.githubusercontent.com/Morikawa2483/20251002_arcgis-notebook-handson-review/refs/heads/main/image/33.jpg\" width=300 />"
   ]
  },
  {
   "cell_type": "markdown",
   "metadata": {},
   "source": [
    "7. [マップの保存] ウィンドウで、タイトルに「令和6年度山口県クマ出没マップ」、タグに「クマ」と⼊⼒し、[保存] をクリックします。 \n",
    "\n",
    "Web マップとレイヤーが ArcGIS Online の コンテンツ フォルダーに保存されます。\n"
   ]
  },
  {
   "cell_type": "markdown",
   "metadata": {
    "heading_collapsed": true
   },
   "source": [
    "## ステップ 4：ArcGIS Notebooks を使用した Web GIS ワークフローの作成 <a class=\"anchor\" id=\"arcgis-notebooks\"></a>"
   ]
  },
  {
   "cell_type": "markdown",
   "metadata": {
    "hidden": true
   },
   "source": [
    "これまでの手順では ArcGIS Online 上で、2 つの異なる方法でデータの集約を実行しました。\n",
    "ここからは、これまでのワークフローを ArcGIS API for Python を使⽤して ArcGIS Notebooks で再現します。\n",
    "\n",
    "まず、空のノートブックを作成し、分析に必要なデータを追加します。"
   ]
  },
  {
   "cell_type": "markdown",
   "metadata": {
    "hidden": true
   },
   "source": [
    "1. メニュー (≡) から [ノートブック] を選択します。\n",
    "\n",
    "ArcGIS Notebooks で新しくノートブックが作成されます。\n",
    "\n",
    "<img src=\"https://raw.githubusercontent.com/Morikawa2483/20251002_arcgis-notebook-handson-review/refs/heads/main/image/34.jpg\" width=300 />"
   ]
  },
  {
   "cell_type": "markdown",
   "metadata": {
    "hidden": true
   },
   "source": [
    "2. [新しいノートブック] をクリックしドロップダウン リストから [Standard] を選択します。"
   ]
  },
  {
   "cell_type": "markdown",
   "metadata": {
    "hidden": true
   },
   "source": [
    "コードを実⾏する前に、ノートブックに名前を付けて保存します。\n",
    "\n",
    "3.\tリボン上で、[保存] の横の矢印をクリックし、[名前を付けて保存] を選択します。\n",
    "\n",
    "<img src=\"https://raw.githubusercontent.com/Morikawa2483/20251002_arcgis-notebook-handson-review/refs/heads/main/image/35.jpg\" width=300 />"
   ]
  },
  {
   "cell_type": "markdown",
   "metadata": {},
   "source": [
    "4.\tタイトルに「ポイントの集約ノートブック」と⼊⼒します。名前の後ろにご自身のイニシャルや名前等を付けてください。タグには「クマ」と⼊⼒し、[ノートブックの保存] をクリックします。 "
   ]
  },
  {
   "cell_type": "markdown",
   "metadata": {},
   "source": [
    "5.\tノートブックの下部にあるコード セル ( Now you are ready to start! の下) をクリックして、そのセルをマークダウン セルに変更します。\n",
    "\n",
    "<img src=\"https://raw.githubusercontent.com/Morikawa2483/20251002_arcgis-notebook-handson-review/refs/heads/main/image/36.jpg\" width=500 />"
   ]
  },
  {
   "cell_type": "markdown",
   "metadata": {},
   "source": [
    "6.\t新しいマークダウン セルで、以下を⼊⼒または貼り付け、*Shift + Enter* キーを押すか、リボンの Run ボタン (▶) をクリックしてセルを実⾏します。"
   ]
  },
  {
   "cell_type": "code",
   "execution_count": null,
   "metadata": {
    "trusted": false
   },
   "outputs": [],
   "source": [
    "## ArcGIS Notebooks を使用したポイントの集約\n",
    "このノートブックでは市区町村ごとや、六角形のビンでポイントの集約をします。"
   ]
  },
  {
   "cell_type": "markdown",
   "metadata": {},
   "source": [
    "次に GIS モジュールを呼び出し、ArcGIS Online の組織に接続します。このセルは、ノートブックを使⽤するたびに最初に実⾏する必要があります\n",
    "\n",
    "7.\t最初のコード セルをクリックしてアクティブにし、セルを実⾏します。"
   ]
  },
  {
   "cell_type": "code",
   "execution_count": null,
   "metadata": {
    "trusted": false
   },
   "outputs": [],
   "source": [
    "from arcgis.gis import GIS\n",
    "gis = GIS(\"home\")"
   ]
  },
  {
   "cell_type": "markdown",
   "metadata": {},
   "source": [
    "コード セルが正常に実⾏されると、セルの左側の括弧内に数字が表⽰され、In [1] と表⽰されます。<br>\n",
    "次に、クマのデータを検索し、ノートブックに追加します。"
   ]
  },
  {
   "cell_type": "markdown",
   "metadata": {},
   "source": [
    "8. ノートブックの最後のセルをクリックし、リボン上で [追加] をクリックします。"
   ]
  },
  {
   "cell_type": "markdown",
   "metadata": {},
   "source": [
    "9. [マイ コンテンツ] をクリックし、ArcGIS Online を選択し「R6_YamaguchiBear」と⼊⼒して、Enter キーで検索し、クマ出没データの [ + 追加] ボタンでノートブックに追加します。\n",
    "\n",
    "<img src=\"https://raw.githubusercontent.com/Morikawa2483/20251002_arcgis-notebook-handson-review/refs/heads/main/image/37.jpg\" width=300 />\n"
   ]
  },
  {
   "cell_type": "code",
   "execution_count": null,
   "metadata": {
    "trusted": false
   },
   "outputs": [],
   "source": [
    "# Item Added From Toolbar\n",
    "# Title: R6_YamaguchiBear | Type: Feature Service | Owner: shu_morikawa_esrij\n",
    "item = gis.content.get(\"414355c21d0b4dabb3439b3f825a6faf\")\n",
    "item"
   ]
  },
  {
   "cell_type": "markdown",
   "metadata": {},
   "source": [
    "[ + 追加] をクリックすると、ArcGIS API for Python を使⽤したコンテンツを取得する上記のコードがノートブックのコード セルに追加されます。"
   ]
  },
  {
   "cell_type": "markdown",
   "metadata": {},
   "source": [
    "10. 変数名を `item` から `bear` へ修正し、セルを実行します。"
   ]
  },
  {
   "cell_type": "code",
   "execution_count": null,
   "metadata": {
    "trusted": false
   },
   "outputs": [],
   "source": [
    "bear = gis.content.get(\"414355c21d0b4dabb3439b3f825a6faf\")\n",
    "bear"
   ]
  },
  {
   "cell_type": "markdown",
   "metadata": {},
   "source": [
    "11. 同様に全国市区町村界のデータを `block_groups` という変数名で追加します。"
   ]
  },
  {
   "cell_type": "code",
   "execution_count": null,
   "metadata": {
    "trusted": false
   },
   "outputs": [],
   "source": [
    "# Item Added From Toolbar\n",
    "# Title: 全国市区町村界データ2025 | Type: Feature Service | Owner: Esri_JP_Content\n",
    "block_groups = gis.content.get(\"5df2d38368a948508c42d54e24fc1e9e\")\n",
    "block_groups"
   ]
  },
  {
   "cell_type": "markdown",
   "metadata": {},
   "source": [
    "次に、全国市区町村界のデータを山口県のみにフィルタリングします。\n",
    "\n",
    "12. 新しいコード セルに下記のコードを入力し、実行します。\n",
    "\n",
    "Note：セルを実⾏するたびに、新しいセルがその下に追加されます。セルを⼿動で追加するには、リボン上の [+] ボタンをクリックして、アクティブなセルの下にセルを挿⼊します。\n",
    "\n",
    "<img src=\"https://raw.githubusercontent.com/Morikawa2483/20251002_arcgis-notebook-handson-review/refs/heads/main/image/38.jpg\" width=200 />"
   ]
  },
  {
   "cell_type": "code",
   "execution_count": null,
   "metadata": {
    "trusted": false
   },
   "outputs": [],
   "source": [
    "# 山口県のデータのみをデータフレームとして表示\n",
    "block_groups.layers[0].query(\"PREF='山口県'\").sdf"
   ]
  },
  {
   "cell_type": "markdown",
   "metadata": {},
   "source": [
    "上記のセルを実行するとデータフレーム形式で表示されます。このようにデータがどのような情報を持っているのか確認することも可能です。\n",
    "\n",
    "13.  コード セルに下記のコードを入力し、実行します。新しく FeatureSet が作成できました。\n"
   ]
  },
  {
   "cell_type": "code",
   "execution_count": null,
   "metadata": {
    "trusted": false
   },
   "outputs": [],
   "source": [
    "# フィーチャ レイヤーとして出力\n",
    "yamaguchi = block_groups.layers[0].query(\"PREF='山口県'\")\n",
    "yamaguchi"
   ]
  },
  {
   "cell_type": "markdown",
   "metadata": {},
   "source": [
    "<img src=\"https://raw.githubusercontent.com/Morikawa2483/20251002_arcgis-notebook-handson-review/refs/heads/main/image/39.jpg\" width=400 />"
   ]
  },
  {
   "cell_type": "markdown",
   "metadata": {},
   "source": [
    "次にマップを作成します。\n",
    "\n",
    "14. 新しいコード セルで、`bear_map` という名前の変数を定義し、次のように山口県を中⼼としたマップを設定します。変数が呼び出されるまではマップは表示されないため、次の行で `bear_map` 変数を呼び出します。"
   ]
  },
  {
   "cell_type": "code",
   "execution_count": null,
   "metadata": {
    "trusted": false
   },
   "outputs": [],
   "source": [
    "bear_map = gis.map(\"山口県\")\n",
    "bear_map"
   ]
  },
  {
   "cell_type": "markdown",
   "metadata": {},
   "source": [
    "<img src=\"https://raw.githubusercontent.com/Morikawa2483/20251002_arcgis-notebook-handson-review/refs/heads/main/image/40.jpg\" width=500 />\n",
    "\n",
    "このコード セルは、ノートブックでマップを描画しています。\n",
    "\n",
    "次に、`yamaguchi` と `bear` をマップに追加します。"
   ]
  },
  {
   "cell_type": "markdown",
   "metadata": {},
   "source": [
    "15. 新しいコードセルで、以下のように `yamaguchi` 変数と `bear` 変数を呼び出し、山口県の市区町村界データとクマ出没データを追加します。"
   ]
  },
  {
   "cell_type": "code",
   "execution_count": null,
   "metadata": {
    "trusted": false
   },
   "outputs": [],
   "source": [
    "bear_map.content.add(yamaguchi)\n",
    "bear_map.content.add(bear)\n",
    "bear_map"
   ]
  },
  {
   "cell_type": "markdown",
   "metadata": {},
   "source": [
    "<img src=\"https://raw.githubusercontent.com/Morikawa2483/20251002_arcgis-notebook-handson-review/refs/heads/main/image/41.jpg\" width=500 />\n",
    "\n",
    "これにより、山口県の市区町村界とクマ出没のレイヤーがマップに追加され、ArcGIS Online で作成したマップと同じような形となりました。"
   ]
  },
  {
   "cell_type": "markdown",
   "metadata": {},
   "source": [
    "16. リボンで [保存] をクリックし、[保存] を選択します。"
   ]
  },
  {
   "cell_type": "markdown",
   "metadata": {},
   "source": [
    "※ 参考：ステップ 4 のコードのまとめ"
   ]
  },
  {
   "cell_type": "code",
   "execution_count": null,
   "metadata": {
    "trusted": false
   },
   "outputs": [],
   "source": [
    "# 7\n",
    "from arcgis.gis import GIS\n",
    "gis = GIS(\"home\")\n",
    "\n",
    "# 9, 11\n",
    "# Title: R6_YamaguchiBear | Type: Feature Service | Owner: shu_morikawa_esrij\n",
    "bear = gis.content.get(\"414355c21d0b4dabb3439b3f825a6faf\")\n",
    "bear\n",
    "# Title: 全国市区町村界データ2025 | Type: Feature Service | Owner: Esri_JP_Content\n",
    "block_groups = gis.content.get(\"1b663a51d8684f90a7bbd2795baa2b53\")\n",
    "block_groups\n",
    "\n",
    "# 12\n",
    "block_groups.layers[0].query(\"PREF='山口県'\").sdf\n",
    "\n",
    "# 13\n",
    "yamaguchi = block_groups.layers[0].query(\"PREF='山口県'\").sdf\n",
    "yamaguchi\n",
    "\n",
    "# 14\n",
    "bear_map = gis.map(\"山口県\")\n",
    "bear_map\n",
    "\n",
    "# 15\n",
    "bear_map.content.add(yamaguchi)\n",
    "bear_map.content.add(bear)\n",
    "bear_map"
   ]
  },
  {
   "cell_type": "markdown",
   "metadata": {
    "heading_collapsed": true
   },
   "source": [
    "## ステップ 5：市区町村ごとにポイントを集約 ～ArcGIS Notebooks～  <a class=\"anchor\" id=\"aggregate-points-notebooks\"></a>"
   ]
  },
  {
   "cell_type": "markdown",
   "metadata": {},
   "source": [
    "このステップでは ArcGIS Notebooks でツールの実⾏をします。ArcGIS Online で実行した、ポイントの集約ツールで解析を行います。\n",
    "\n",
    "ArcGIS API for Python を使⽤して、ツールのパラメーターを定義していきます。"
   ]
  },
  {
   "cell_type": "markdown",
   "metadata": {},
   "source": [
    "1. リボンで、 [解析] をクリックします。\n",
    "\n",
    "2. 解析ツール ウィンドウで、[データの集計] を展開し、ポイントの集約の [＋ 追加] ボタンをクリックし、ノートブックにコード スニペットを挿入します。\n",
    "\n",
    "<img src=\"https://raw.githubusercontent.com/Morikawa2483/20251002_arcgis-notebook-handson-review/refs/heads/main/image/42.jpg\" width=600 />\n",
    "\n",
    "ArcGIS API for Python から features モジュールをインポートし、 `aggregate_points()` 関数を呼び出す新しいコード ブロックがノートブックに追加されます。\n",
    "\n",
    "コードを実⾏する前に、関数シグネチャーを確認して、 `aggregate_points()` 関数に必要なパラメーターを確認することができます。各パラメーターは、関数が期待する通りに正確に⼊⼒する必要があり、正しく入力されていない場合はエラーが発⽣します。\n",
    "\n",
    "3. 関数シグネチャーを呼び出すには、() を ? に置き換えてセルを実⾏します。\n",
    "\n",
    "<img src=\"https://raw.githubusercontent.com/Morikawa2483/20251002_arcgis-notebook-handson-review/refs/heads/main/image/43.jpg\" width=800 />\n",
    "\n",
    "\n",
    "関数シグネチャーから、point_layer と polygon_layer を定義する必要があることがわかります。\n",
    "\n",
    "また、今回はオプションの output_name も設定し、さらに、クマが出没していない市区町村もフィーチャが残るように、`keep_boundaries_with_no_points = True` を設定します。"
   ]
  },
  {
   "cell_type": "markdown",
   "metadata": {},
   "source": [
    "4. 実行する関数を `bears_by_block_group` という名前の変数に追加し、以下のように必要なパラメーターを追加します。output_name には、レイヤー名が組織内で⼀意になるように、ご自身のイニシャルや名前等を追加します。"
   ]
  },
  {
   "cell_type": "code",
   "execution_count": null,
   "metadata": {
    "trusted": false
   },
   "outputs": [],
   "source": [
    "from arcgis import features\n",
    "bears_by_block_group = features.summarize_data.aggregate_points(point_layer = bear,\n",
    "                                                                polygon_layer = yamaguchi,\n",
    "                                                                output_name = \"ポイントの集約_市区町村_名前\",\n",
    "                                                                keep_boundaries_with_no_points = True)"
   ]
  },
  {
   "cell_type": "markdown",
   "metadata": {},
   "source": [
    "5. セルを実行します。すると以下のようなエラーとなります。エラー文の最終行を見ると「 Invalid format of input layer. 」とあることから、関数に渡している `yamaguchi` が input layer として適していないことが分かります。\n",
    "\n",
    "<img src=\"https://raw.githubusercontent.com/Morikawa2483/20251002_arcgis-notebook-handson-review/refs/heads/main/image/44.jpg\" width=800 />"
   ]
  },
  {
   "cell_type": "markdown",
   "metadata": {},
   "source": [
    "6. 以下のコードで `yamaguchi` のファイル形式を確認します。"
   ]
  },
  {
   "cell_type": "code",
   "execution_count": null,
   "metadata": {
    "trusted": false
   },
   "outputs": [],
   "source": [
    "type(yamaguchi)"
   ]
  },
  {
   "cell_type": "markdown",
   "metadata": {},
   "source": [
    "<img src=\"https://raw.githubusercontent.com/Morikawa2483/20251002_arcgis-notebook-handson-review/refs/heads/main/image/45.jpg\" width=300 />\n",
    "\n",
    "7. `yamaguchi` は `FeatureSet` であることが分かります (ステップ 4 の 13. と同様に `yamaguchi` と入力・実行しても確認可能です) 。<br>次に以下のコードで `features.summarize_data.aggregate_points()` 関数のシグネチャーを確認します。"
   ]
  },
  {
   "cell_type": "code",
   "execution_count": null,
   "metadata": {
    "trusted": false
   },
   "outputs": [],
   "source": [
    "features.summarize_data.aggregate_points?"
   ]
  },
  {
   "cell_type": "markdown",
   "metadata": {},
   "source": [
    "<img src=\"https://raw.githubusercontent.com/Morikawa2483/20251002_arcgis-notebook-handson-review/refs/heads/main/image/46.jpg\" width=600 />\n",
    "\n",
    "`polygon_layer` の条件を示す 4 行目の赤線部を見ると `Feature Set` は含まれておらず、ここでエラーが発生したとわかります。赤線部から `dict` 形式であれば対応していると分かるため、</br>\n",
    "\n",
    "8. 次のように 5. のコードを書き換えて実行します ( 0.528 クレジット ) 。\n",
    "\n",
    "処理の実⾏には数分かかる場合があります。処理中のセルでは、カッコの中にアスタリスクが⼊っています ( In[*] と表⽰される ) 。"
   ]
  },
  {
   "cell_type": "code",
   "execution_count": null,
   "metadata": {
    "trusted": false
   },
   "outputs": [],
   "source": [
    "from arcgis import features\n",
    "bears_by_block_group = features.summarize_data.aggregate_points(point_layer = bear,\n",
    "                                                                polygon_layer = yamaguchi.to_dict(),\n",
    "                                                                output_name = \"ポイントの集約_市区町村_名前\",\n",
    "                                                                keep_boundaries_with_no_points = True)"
   ]
  },
  {
   "cell_type": "markdown",
   "metadata": {},
   "source": [
    "9. 実行が完了したら新しいセルに、`bears_by_block_group` と⼊⼒してセルを実⾏します。これにより、結果として作成されたアイテムのプレビューが⽣成されます。\n",
    "\n",
    "<img src=\"https://raw.githubusercontent.com/Morikawa2483/20251002_arcgis-notebook-handson-review/refs/heads/main/image/47.jpg\" width=300 />\n",
    "\n",
    "次に解析結果のレイヤーをマップに追加します。"
   ]
  },
  {
   "cell_type": "markdown",
   "metadata": {},
   "source": [
    "10. `bear_map_1` という名前の別のマップを作成し、次のように `map` 関数を呼び出して新しいマップを描画します。"
   ]
  },
  {
   "cell_type": "code",
   "execution_count": null,
   "metadata": {
    "trusted": false
   },
   "outputs": [],
   "source": [
    "bear_map_1 = gis.map(\"山口県\")\n",
    "bear_map_1"
   ]
  },
  {
   "cell_type": "markdown",
   "metadata": {},
   "source": [
    "11. 次のようにマップに `bears_by_block_group` を追加します。"
   ]
  },
  {
   "cell_type": "code",
   "execution_count": null,
   "metadata": {
    "trusted": false
   },
   "outputs": [],
   "source": [
    "bear_map_1.content.add(bears_by_block_group)"
   ]
  },
  {
   "cell_type": "markdown",
   "metadata": {},
   "source": [
    "<img src=\"https://raw.githubusercontent.com/Morikawa2483/20251002_arcgis-notebook-handson-review/refs/heads/main/image/48.jpg\" width=500 />\n",
    "\n",
    "これで、ArcGIS Online と同様に、山口県の市区町村ごとのクマ出没情報を集約したマップを作成できました。"
   ]
  },
  {
   "cell_type": "markdown",
   "metadata": {},
   "source": [
    "※ 参考：ステップ 5 のコードのまとめ"
   ]
  },
  {
   "cell_type": "code",
   "execution_count": null,
   "metadata": {
    "trusted": false
   },
   "outputs": [],
   "source": [
    "# 8, 9\n",
    "from arcgis import features\n",
    "bears_by_block_group = features.summarize_data.aggregate_points(point_layer = bear,\n",
    "                                                                polygon_layer = yamaguchi.to_dict(),\n",
    "                                                                output_name = \"ポイントの集約_市区町村_名前\",\n",
    "                                                                keep_boundaries_with_no_points = True)\n",
    "bears_by_block_group\n",
    "\n",
    "# 10, 11\n",
    "bear_map_1 = gis.map(\"山口県\")\n",
    "bear_map_1\n",
    "bear_map_1.content.add(bears_by_block_group)"
   ]
  },
  {
   "cell_type": "markdown",
   "metadata": {
    "heading_collapsed": true
   },
   "source": [
    "## ステップ 6：六角形のビンでポイントを集約 ～ArcGIS Notebooks～ <a class=\"anchor\" id=\"aggregate-points-hexagon-notebooks\"></a>"
   ]
  },
  {
   "cell_type": "markdown",
   "metadata": {
    "hidden": true
   },
   "source": [
    "六角形のビンで集約する処理も同様に、API を使⽤して解析を実行することが可能です。まず、[テッセレーションの⽣成] ツールを使⽤して六角形のビンのレイヤーを生成します。\n",
    "次に、六角形のビンのレイヤーを集計エリアとして使⽤し、ポイントを集約します。\n",
    "1. リボンで [解析] をクリックします。[データの管理] を展開し、[テッセレーションの⽣成] の [+ 追加] ボタンをクリックし、ノートブックにコード スニペットを挿入します。\n",
    "\n",
    "<img src=\"https://raw.githubusercontent.com/Morikawa2483/20251002_arcgis-notebook-handson-review/refs/heads/main/image/49.jpg\" width=500 />\n",
    "\n",
    "これにより、ArcGIS API for Python から features モジュールをインポートし、`generate_tessellation()` を呼び出す⽅法を⽰す新しいコード ブロックがノートブックに追加されます。\n",
    "\n",
    "2. 前のステップの `aggregate_points()` で⾏ったように、関数のシグネチャーを確認します。"
   ]
  },
  {
   "cell_type": "code",
   "execution_count": null,
   "metadata": {
    "trusted": false
   },
   "outputs": [],
   "source": [
    "features.manage_data.generate_tessellation?"
   ]
  },
  {
   "cell_type": "markdown",
   "metadata": {},
   "source": [
    "<img src=\"https://raw.githubusercontent.com/Morikawa2483/20251002_arcgis-notebook-handson-review/refs/heads/main/image/50.jpg\" width=800 />\n",
    "\n",
    "テッセレーションの範囲である `extent_layer` の項目 ( 3 行目) を見ると `Feature Set` には対応していないため、`yamaguchi` はステップ 5 と同様に `to_dict()` メソッドを適用すれば使用可能と分かります。\n",
    "\n",
    "3. 結果を保持するための変数 hexbins を作成し、以下のように必要なパラメーターをコード セルに追加し、セルを実行します ( 0.805 クレジット) 。"
   ]
  },
  {
   "cell_type": "code",
   "execution_count": null,
   "metadata": {
    "trusted": false
   },
   "outputs": [],
   "source": [
    "from arcgis import features\n",
    "hexbins = features.manage_data.generate_tessellation(extent_layer=yamaguchi.to_dict(),\n",
    "                                                     bin_size=25,\n",
    "                                                     bin_size_unit=\"SquareKilometers\",\n",
    "                                                     bin_type=\"HEXAGON\",\n",
    "                                                     output_name=\"Yamaguchi_Hexbins_name\",\n",
    "                                                     )"
   ]
  },
  {
   "cell_type": "markdown",
   "metadata": {},
   "source": [
    "4. 処理が完了したら、新しいセルを作成し、`hexbins` と⼊⼒して、セルを実⾏します。これにより、テッセレーションの⽣成結果のプレビューが表示されます。"
   ]
  },
  {
   "cell_type": "code",
   "execution_count": null,
   "metadata": {
    "trusted": false
   },
   "outputs": [],
   "source": [
    "hexbins"
   ]
  },
  {
   "cell_type": "markdown",
   "metadata": {},
   "source": [
    "<img src=\"https://raw.githubusercontent.com/Morikawa2483/20251002_arcgis-notebook-handson-review/refs/heads/main/image/51.jpg\" width=800 />"
   ]
  },
  {
   "attachments": {},
   "cell_type": "markdown",
   "metadata": {},
   "source": [
    "5. [解析] ツール ウィンドウで、[データの集計] を展開します。[ポイントの集約] の [+ 追加] ボタンをクリックし、ノートブックにコード スニペットを挿入します。\n",
    "これにより、ArcGIS API for Python から features モジュールをノートブックにインポートする新しいコード ブロックが追加され、`aggregate_points()` を呼び出す⽅法が⽰されます。今回は、⼊⼒ポイント レイヤーには `bear` を選択します。集約に使⽤するポリゴンには上記で作成した `hexbins` を使用します。\n",
    "\n",
    "<img src=\"https://raw.githubusercontent.com/Morikawa2483/20251002_arcgis-notebook-handson-review/refs/heads/main/image/52.jpg\" width=600 />"
   ]
  },
  {
   "cell_type": "markdown",
   "metadata": {},
   "source": [
    "6. 変数 `bears_by_hexbin` を作成し、必要なパラメーターを以下のように⼊⼒します。出⼒名には「ポイントの集約_六角形」と入力し、後ろに⾃分のイニシャルや名前等を追加し、組織内でレイヤー名が⼀意になるようにします。なお、ステップ 3 の 2. と同様に、山口県以外のエリアでの六角形のビンを解析対象から外すため、`keep_boundaries_with_no_points = False` のパラメーター設定を行います。"
   ]
  },
  {
   "cell_type": "code",
   "execution_count": null,
   "metadata": {
    "trusted": false
   },
   "outputs": [],
   "source": [
    "from arcgis import features\n",
    "bears_by_hexbin = features.summarize_data.aggregate_points(point_layer = bear,\n",
    "                                                           polygon_layer = hexbins,\n",
    "                                                           output_name = \"ポイントの集約_六角形_名前\",\n",
    "                                                           keep_boundaries_with_no_points = False)"
   ]
  },
  {
   "cell_type": "markdown",
   "metadata": {},
   "source": [
    "7. セルを実⾏します ( 1.314クレジット) 。"
   ]
  },
  {
   "cell_type": "markdown",
   "metadata": {},
   "source": [
    "8. 処理が完了したら、新しいセルを作成し、`bears_by_hexbin` と⼊⼒して、セルを実⾏します。これにより、解析結果のプレビューが表示されます。\n",
    "\n",
    "<img src=\"https://raw.githubusercontent.com/Morikawa2483/20251002_arcgis-notebook-handson-review/refs/heads/main/image/53.jpg\" width=600 />\n",
    "\n",
    "次にマップに追加して、結果を可視化します。"
   ]
  },
  {
   "cell_type": "markdown",
   "metadata": {},
   "source": [
    "9. 新しいコード セルに `bear_map_2` という名前の別のマップを作成し、実行します。"
   ]
  },
  {
   "cell_type": "code",
   "execution_count": null,
   "metadata": {
    "trusted": false
   },
   "outputs": [],
   "source": [
    "bear_map_2 = gis.map(\"山口県\")\n",
    "bear_map_2"
   ]
  },
  {
   "cell_type": "markdown",
   "metadata": {},
   "source": [
    "10. bears_by_hexbin をマップに追加します。"
   ]
  },
  {
   "cell_type": "code",
   "execution_count": null,
   "metadata": {
    "trusted": false
   },
   "outputs": [],
   "source": [
    "bear_map_2.content.add(bears_by_hexbin)"
   ]
  },
  {
   "cell_type": "markdown",
   "metadata": {},
   "source": [
    "<img src=\"https://raw.githubusercontent.com/Morikawa2483/20251002_arcgis-notebook-handson-review/refs/heads/main/image/54.jpg\" width=500 />\n",
    "\n",
    "マップには、六角形で集約された結果が表⽰されます。"
   ]
  },
  {
   "cell_type": "markdown",
   "metadata": {},
   "source": [
    "11. リボンで [保存] をクリックしノートブックを保存します。保存することによってコードを再実⾏や、ノートブックの修正、解析の拡張や組織への共有などが可能です。"
   ]
  },
  {
   "cell_type": "markdown",
   "metadata": {},
   "source": [
    "※ 参考：ステップ 6 のコードのまとめ"
   ]
  },
  {
   "cell_type": "code",
   "execution_count": null,
   "metadata": {
    "trusted": false
   },
   "outputs": [],
   "source": [
    "# 3, 4\n",
    "from arcgis import features\n",
    "hexbins = features.manage_data.generate_tessellation(extent_layer=yamaguchi.to_dict(),\n",
    "                                                     bin_size=25,\n",
    "                                                     bin_size_unit=\"SquareKilometers\",\n",
    "                                                     bin_type=\"HEXAGON\",\n",
    "                                                     output_name=\"Yamaguchi_Hexbins_name\",\n",
    "                                                     )\n",
    "hexbins\n",
    "\n",
    "# 6, 8\n",
    "from arcgis import features\n",
    "bears_by_hexbin = features.summarize_data.aggregate_points(point_layer = bear,\n",
    "                                                           polygon_layer = hexbins,\n",
    "                                                           output_name = \"ポイントの集約_六角形_名前\",\n",
    "                                                           keep_boundaries_with_no_points = False)\n",
    "bears_by_hexbin\n",
    "\n",
    "# 9, 10\n",
    "bear_map_2 = gis.map(\"山口県\")\n",
    "bear_map_2\n",
    "bear_map_2.content.add(bears_by_hexbin)"
   ]
  },
  {
   "cell_type": "markdown",
   "metadata": {
    "heading_collapsed": true
   },
   "source": [
    "## まとめ <a class=\"anchor\" id=\"summary\"></a>"
   ]
  },
  {
   "cell_type": "markdown",
   "metadata": {
    "hidden": true
   },
   "source": [
    "ハンズオン後半では、⼀般的な Web GIS のワークフローを ArcGIS Notebooks と ArcGIS API for Python を使⽤して実行する⽅法を学びました。\n",
    "ArcGIS Online で実⾏できる空間解析を、ArcGIS Notebooks でも API を通じて実行することができます。"
   ]
  }
 ],
 "metadata": {
  "esriNotebookRuntime": {
   "notebookRuntimeName": "ArcGIS Notebook Python 3 Advanced",
   "notebookRuntimeVersion": "4.0"
  },
  "kernelspec": {
   "display_name": "Python 3 (ipykernel)",
   "language": "python",
   "name": "python3"
  },
  "language_info": {
   "codemirror_mode": {
    "name": "ipython",
    "version": 3
   },
   "file_extension": ".py",
   "mimetype": "text/x-python",
   "name": "python",
   "nbconvert_exporter": "python",
   "pygments_lexer": "ipython3",
   "version": "3.11.11"
  }
 },
 "nbformat": 4,
 "nbformat_minor": 4
}
