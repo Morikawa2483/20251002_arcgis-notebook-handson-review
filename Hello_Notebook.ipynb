{
 "cells": [
  {
   "cell_type": "markdown",
   "metadata": {},
   "source": [
    "# ArcGIS API for Python 体験 〜 ArcGIS Notebooks の基本操作 〜\n"
   ]
  },
  {
   "cell_type": "markdown",
   "metadata": {},
   "source": [
    "## 概要\n",
    "\n",
    "ハンズオンの前半では、ArcGIS Notebooks の操作を体験します。\n",
    "\n",
    "ArcGIS Online で組織のバナーの上部に [ノートブック] と表⽰されている場合は、ArcGIS Notebooks でノートブックを作成および編集することが可能です。\n",
    "\n",
    "<img src=\"https://raw.githubusercontent.com/Morikawa2483/20251002_arcgis-notebook-handson-review/refs/heads/main/image/01.jpg\" width=800 />"
   ]
  },
  {
   "cell_type": "markdown",
   "metadata": {},
   "source": [
    "バナーに [ノートブック] と表⽰されていない場合は、組織の管理者と相談して ArcGIS Notebooks へのアクセスを有効にしてください。アクセスを有効にしたら、最初のノートブックを作成して、ArcGIS Notebooks を使⽤した空間データ サイエンスを学び始めることができます。\n",
    "\n",
    "\n",
    "目次\n",
    "* ノートブックの作成\n",
    "* ノートブックの基本操作\n",
    "* ノートブックでマップを作成\n",
    "* マップにレイヤーを追加\n",
    "* ArcGIS Online にマップを保存\n",
    "* ノートブックの共有\n",
    "* ノートブックのダウンロード\n",
    "* まとめ"
   ]
  },
  {
   "cell_type": "markdown",
   "metadata": {},
   "source": [
    "## ステップ1：ノートブックの作成 <a class=\"anchor\" id=\"create-a-notebook\"></a>"
   ]
  },
  {
   "cell_type": "markdown",
   "metadata": {},
   "source": [
    "お手元に本日使用する ArcGIS Online のユーザー名とパスワードの控えをご用意の上、本ステップを進めてください。\n",
    "1. 任意の Web ブラウザーを立ち上げ、URL の箇所に「arcgis.com」と入力します。\n",
    "2. 表示されたサイトで [サイン イン] をクリックします。\n",
    "3. ユーザー名とパスワードを入力し、[サイン イン] をクリックします。"
   ]
  },
  {
   "cell_type": "markdown",
   "metadata": {},
   "source": [
    "ArcGIS Online にサイン インができたらノートブックを作成してみましょう。\n",
    "\n",
    "4. 組織のバナーの上部の [ノートブック] をクリックし、ArcGIS Notebooks を開きます。\n",
    "\n",
    "<img src=\"https://raw.githubusercontent.com/Morikawa2483/20251002_arcgis-notebook-handson-review/refs/heads/main/image/01.jpg\" width=800 />"
   ]
  },
  {
   "cell_type": "markdown",
   "metadata": {},
   "source": [
    "5. [新しいノートブック] をクリックし、ドロップダウン リストからノートブック ランタイムの [Standard] を選択します。\n",
    "\n",
    "Note：ランタイムには Standard、Advanced、Advanced with GPU サポート の 3 つのオプションがあります。\n",
    "この演習では、Standard ランタイムを使⽤します。\n",
    "\n",
    "<img src=\"https://raw.githubusercontent.com/Morikawa2483/20251002_arcgis-notebook-handson-review/refs/heads/main/image/02.jpg\" width=300 />"
   ]
  },
  {
   "cell_type": "markdown",
   "metadata": {},
   "source": [
    "## ステップ2：ノートブックの基本操作 <a class=\"anchor\" id=\"notebook-basics\"></a>"
   ]
  },
  {
   "cell_type": "markdown",
   "metadata": {},
   "source": [
    "新しいノートブック には、いくつかのマークダウン セルと、ArcGIS API for Python を呼び出して ArcGIS Online に接続する 1 つのコード セルがすでに入力されている状態から始まります。その後、コードとマークダウン セルを追加して、ワークフローを作成することができます。\n",
    "\n",
    "1. **Welcome to your notebook** セルをダブル クリックして編集可能な状態にします。  \n",
    "\n",
    "これは マークダウン セルです。マークダウンは、インターネット上で広く使われている、軽量なプレーン テキスト形式の構文です。セルをダブル クリックすると、テキストが<span style=\"color:blue\">**青色**</span>で表示され、その前に 2 つのシャープ記号 ( <span style=\"color:blue\">**##**</span> ) が表示されます。\n",
    "\n",
    "<img src=\"https://raw.githubusercontent.com/Morikawa2483/20251002_arcgis-notebook-handson-review/refs/heads/main/image/03.jpg\" width=300 />"
   ]
  },
  {
   "cell_type": "markdown",
   "metadata": {},
   "source": [
    "2. [Run] (▶) をクリックしてセルを実行します ( [Runタブ] ではありません) 。<br>\n",
    "<img src=\"https://raw.githubusercontent.com/Morikawa2483/20251002_arcgis-notebook-handson-review/refs/heads/main/image/04.jpg\" width=300 />"
   ]
  },
  {
   "cell_type": "markdown",
   "metadata": {},
   "source": [
    "これはセルが実行され、ヘッダー⾏に変わります。\n",
    "\n",
    "Note：キーボードで *Shift + Enter* でセルを実行することも可能です。*Shift + Enter* はノートブックのセルを実行するキーボード ショートカットです。すべてのキーボード ショートカットのリストを表⽰するには、ノートブックの上部にある Help メニューの [Show Keyboard Shortcuts...] をクリックします。キーボード ショートカットのリストが表⽰されます。\n",
    "\n",
    "<img src=\"https://raw.githubusercontent.com/Morikawa2483/20251002_arcgis-notebook-handson-review/refs/heads/main/image/05.jpg\" width=400 />"
   ]
  },
  {
   "cell_type": "markdown",
   "metadata": {},
   "source": [
    "3. 同じセルをダブル クリックして編集します。セル内の **Welcome to your notebook.** の前にシャープ記号 ( # ) を 2 つ挿⼊します。\n",
    "これでシャープ記号 ( # ) が 4 つになりました。シャープ記号 ( # ) を追加すると、ヘッダーのサイズが変わります。"
   ]
  },
  {
   "cell_type": "markdown",
   "metadata": {},
   "source": [
    "4. [Run] をクリックします。 \n",
    "ヘッダーが⼩さくなっていることが確認できます。\n"
   ]
  },
  {
   "cell_type": "markdown",
   "metadata": {},
   "source": [
    "5.\t再度同じセルをダブル クリックし、ヘッダーから 2 つのシャープ記号 ( # ) を削除し、*Enter* キーを押し、2 ⾏⽬に \"はじめてのノートブック\" と⼊⼒します。\n",
    "\n",
    "<img src=\"https://raw.githubusercontent.com/Morikawa2483/20251002_arcgis-notebook-handson-review/refs/heads/main/image/06.jpg\" width=500 />"
   ]
  },
  {
   "cell_type": "markdown",
   "metadata": {},
   "source": [
    "6.\t[Run] をクリックします。 \n",
    "\n",
    "\n",
    "2 番⽬のマークダウン セルは、最初のコード セルを説明しています ( Run this cell to connect to your GIS and get started: の⽂⾔)。このコード セルは、Python API から GIS モジュールを呼び出し、ArcGIS Online の組織に接続します。\n",
    "\n",
    "<img src=\"https://raw.githubusercontent.com/Morikawa2483/20251002_arcgis-notebook-handson-review/refs/heads/main/image/07.jpg\" width=600 />"
   ]
  },
  {
   "cell_type": "markdown",
   "metadata": {},
   "source": [
    "7. コード セルをクリックし、[Run] をクリックして実行します。 \n",
    " \n",
    "セルの実行中は、入力エリアの括弧の中にアスタリスクがあるため、<span style=\"color:blue\">In [*]</span> と表示されます。セルの実行が完了すると、括弧内のアスタリスクの代わりに数字の 1 が表示され、<span style=\"color:blue\">In [1]</span> と表示されます。コード セルが実行されるたびに、括弧内の数字が 1 ずつ増えていきます。\n",
    "\n",
    "Note：このセルは必ず実行する必要があります。このセルを実行しないと、他のコード セルは実行されません。"
   ]
  },
  {
   "cell_type": "markdown",
   "metadata": {},
   "source": [
    "## ステップ3：ノートブックでマップを作成 <a class=\"anchor\" id=\"create-a-map\"></a>"
   ]
  },
  {
   "cell_type": "markdown",
   "metadata": {},
   "source": [
    "マークダウンに慣れ、既存のコードを実行したので、次はコードを書いて実行してみましょう。<br>\n",
    "1.\t空のセルに、\"### はじめてのマップ\" と⼊⼒します。<br>\n",
    "2.  リボン上で、[Code] をクリックし、[Markdown] に変更します。\n",
    "\n",
    "<img src=\"https://raw.githubusercontent.com/Morikawa2483/20251002_arcgis-notebook-handson-review/refs/heads/main/image/08.jpg\" width=600 />"
   ]
  },
  {
   "cell_type": "markdown",
   "metadata": {},
   "source": [
    "3.\t[Run] をクリックします。\n",
    "    マークダウン セルの下に新しい⾏が追加されます。ここにマップを追加します。 \n",
    "\n",
    "\n",
    "    Note：リボンの [＋] ボタンをクリックして、ノートブック内の任意の場所にセルを追加することもできます。\n",
    "\n",
    "  <img src=\"https://raw.githubusercontent.com/Morikawa2483/20251002_arcgis-notebook-handson-review/refs/heads/main/image/09.jpg\" width=200 />"
   ]
  },
  {
   "cell_type": "markdown",
   "metadata": {},
   "source": [
    "次に、ノートブックにマップを作成します。そのためには、マップを表す変数を定義し、ArcGIS API for Python を使⽤して、特定の場所を中⼼としたマップに変数を設定します。\n",
    "\n",
    "4. `my_first_map` という名前の変数を作成し、山口県を中⼼としたマップと ＝ で結びます。"
   ]
  },
  {
   "cell_type": "code",
   "execution_count": null,
   "metadata": {
    "trusted": false
   },
   "outputs": [],
   "source": [
    "my_first_map = gis.map(\"山口県\")"
   ]
  },
  {
   "cell_type": "markdown",
   "metadata": {},
   "source": [
    "5.\t[Run] をクリックします。 \n",
    "\n",
    "定義した変数を呼び出して、マップを表示します。\n",
    "\n",
    "6. コード セルに定義した変数を呼び出すコードを書いて、そのセルを [Run] で実⾏します。"
   ]
  },
  {
   "cell_type": "code",
   "execution_count": null,
   "metadata": {
    "trusted": false
   },
   "outputs": [],
   "source": [
    "my_first_map"
   ]
  },
  {
   "cell_type": "markdown",
   "metadata": {},
   "source": [
    "実⾏されるとノートブックに、マップが表⽰されます。\n",
    "\n",
    "Note：前のセルに戻って、\"山口県\" を別の場所に変更し (例えば、”Yokohama”、”横浜市”、”Tokushima”、\"徳島市\" など) 、再度、セルを実⾏することで、地図の中⼼の位置を変更することができます。"
   ]
  },
  {
   "cell_type": "markdown",
   "metadata": {},
   "source": [
    "## ステップ4：マップにレイヤーを追加  <a class=\"anchor\" id=\"add-layer\"></a>"
   ]
  },
  {
   "cell_type": "markdown",
   "metadata": {},
   "source": [
    "このステップでは ArcGIS Notebooks では、レイヤーを検索し、マップに追加します。\n",
    "\n",
    "\n",
    "1. リボンで [追加] をクリックします。\n",
    "\n",
    "[コンテンツの追加] ウィンドウにコンテンツが表⽰されます。ArcGIS Online または ArcGIS Notebooks にコンテンツを保存している場合は、そのコンテンツをノートブックで使⽤できます。また、組織に共有されているコンテンツ、ArcGIS Online に共有されているコンテンツ、または ArcGIS Living Atlas からアクセスすることもできます。今回は、ArcGIS Online を使⽤します。\n"
   ]
  },
  {
   "cell_type": "markdown",
   "metadata": {},
   "source": [
    "2. [マイ コンテンツ] をクリックし、ArcGIS Online を選択します。検索ボックスに「R6_YamaguchiBear」と⼊⼒して、*Enter* キーで検索します。 \n",
    "\n",
    "3. 検索結果に表示される [R6_YamaguchiBear](https://esrij.maps.arcgis.com/home/item.html?id=414355c21d0b4dabb3439b3f825a6faf) レイヤーを [ + 追加] をクリックして、ノートブックに追加します。\n",
    "\n",
    "<img src=\"https://raw.githubusercontent.com/Morikawa2483/20251002_arcgis-notebook-handson-review/refs/heads/main/image/10.jpg\" width=300 />"
   ]
  },
  {
   "cell_type": "markdown",
   "metadata": {},
   "source": [
    "コード スニペットを含む新しいコード セルが、マップの下のノートブック に追加されます。このセルは、変数 `item` としてクマ出没のレイヤーを呼び出し、そのメタデータをロードします。コード セルは次のようになります。"
   ]
  },
  {
   "cell_type": "code",
   "execution_count": null,
   "metadata": {
    "trusted": false
   },
   "outputs": [],
   "source": [
    "# Item Added From Toolbar\n",
    "# Title: R6_YamaguchiBear | Type: Feature Service | Owner: shu_morikawa_esrij\n",
    "item = gis.content.get(\"414355c21d0b4dabb3439b3f825a6faf\")\n",
    "item"
   ]
  },
  {
   "cell_type": "markdown",
   "metadata": {},
   "source": [
    "4. コード セルを実⾏します。 \n",
    "\n",
    "アイテムのメタデータがオブジェクトとしてセルの下のノートブックに表示されますが、マップにはまだ追加されていません。\n"
   ]
  },
  {
   "cell_type": "markdown",
   "metadata": {},
   "source": [
    "5.\t前の⼿順で表⽰されたアイテムの下にコード セルを作成し、マップ 変数を呼び出します。 \n",
    "    `my_` と⼊⼒して *Tab* キーを押下することでコード補完され、`my_first_map` が読み込まれます。\n"
   ]
  },
  {
   "cell_type": "markdown",
   "metadata": {},
   "source": [
    "6.\t`my_first_map` の後に続けて `.co` と入力した後（ `my_first_map.co` の状態）、 *Tab* キーを押下し、 `content` を選択します。コードは `my_first_map.content` となります。"
   ]
  },
  {
   "cell_type": "markdown",
   "metadata": {},
   "source": [
    "7. my_first_map.content の後に続けて `.add(` と入力した後、 *Tab* キーを押下し、 `item` を選択し、最後に `)` を付けます。"
   ]
  },
  {
   "cell_type": "markdown",
   "metadata": {},
   "source": [
    "Note: *Shift + Tab* キーを押下すると docstring が表示されます。 docstring はメソッドが何をするかを説明する開発者向けの簡単なドキュメントです。\n",
    "また、 `my_first_map.content.add?` のようにメソッドや関数の後ろに `?` を入力して実行すると、そのヘルプ ドキュメントを呼び出すことができます。"
   ]
  },
  {
   "cell_type": "code",
   "execution_count": null,
   "metadata": {
    "trusted": false
   },
   "outputs": [],
   "source": [
    "my_first_map.content.add(item)"
   ]
  },
  {
   "cell_type": "markdown",
   "metadata": {},
   "source": [
    "任意の場所にマップを拡大すると、クマ出没のレイヤーが、表⽰したマップに追加されていることが確認できます。\n",
    "\n",
    "<img src=\"https://raw.githubusercontent.com/Morikawa2483/20251002_arcgis-notebook-handson-review/refs/heads/main/image/11.jpg\" width=500 />"
   ]
  },
  {
   "cell_type": "markdown",
   "metadata": {},
   "source": [
    "ここまでで ArcGIS Notebooks を使⽤してマップを作成し、そのマップにレイヤーを追加しました。マップには、拡⼤・縮⼩ボタンが含まれていることが確認できます。マップをパンしたり、ズームしたりといった操作にこれらのボタンが使⽤できます。"
   ]
  },
  {
   "cell_type": "markdown",
   "metadata": {},
   "source": [
    "## ステップ5：ArcGIS Online にマップを保存<a class=\"anchor\" id=\"save-the-map\"></a>"
   ]
  },
  {
   "cell_type": "markdown",
   "metadata": {},
   "source": [
    "このステップでは表示したマップを ArcGIS Online に保存します。数行のコードで、作成したマップを保存することができます。Web マップは、title (タイトル) 、snippet (サマリー) 、tags (タグ) など、特定のプロパティによって定義されます。Web マップ の定義方法については、[web map specification](https://developers.arcgis.com/web-map-specification/) を参照してください。Python のコードでプロパティを含む辞書型を作成することで、プロパティを定義することができます。\n",
    "\n",
    "1. 新しいコード セルで、以下の Web マップ プロパティを定義します。title (タイトル) 、snippet (サマリー) 、または tags (タグ) を定義しセルを実行します。"
   ]
  },
  {
   "cell_type": "code",
   "execution_count": null,
   "metadata": {
    "trusted": false
   },
   "outputs": [],
   "source": [
    "webmap_properties = {'title':'はじめてのマップ',\n",
    "                     'snippet': 'ノートブックでマップを作成しました',\n",
    "                     'tags':['ArcGISNotebooks','クマ']}\n",
    "my_first_map.save(webmap_properties)"
   ]
  },
  {
   "attachments": {},
   "cell_type": "markdown",
   "metadata": {},
   "source": [
    "<img src=\"https://raw.githubusercontent.com/Morikawa2483/20251002_arcgis-notebook-handson-review/refs/heads/main/image/12.jpg\" width=600 />\n",
    "\n",
    "このセルを実行すると、ArcGIS Online の Web マップ アイテムに移動するためのアクティブ リンクが作成されます。アクティブ リンクをクリックし、ArcGIS Online で Web マップ が作成されたことを確認します。 "
   ]
  },
  {
   "cell_type": "markdown",
   "metadata": {},
   "source": [
    "マップとノートブックは別々に保存する必要があります。ノートブックを閉じる前に、ArcGIS Online にノートブックを保存します。\n",
    "\n",
    "2. リボンで [名前を付けて保存] をクリックします。\n",
    "\n",
    "3. タイトルなどを⼊⼒し、[ノートブックの保存] をクリックします。\n",
    "\n",
    "<img src=\"https://raw.githubusercontent.com/Morikawa2483/20251002_arcgis-notebook-handson-review/refs/heads/main/image/13.jpg\" width=600 />"
   ]
  },
  {
   "cell_type": "markdown",
   "metadata": {},
   "source": [
    "Note：ノートブックで 20 分間操作されなければ、Python カーネルはシャットダウンし、ノートブックは動作を停止し、メモリー内のすべての変数が失われます。\n",
    "カーネルの再起動後、値を復元するためには、すべてのセルをもう一度、最初から実行する必要があります。"
   ]
  },
  {
   "cell_type": "markdown",
   "metadata": {},
   "source": [
    "## ステップ6：ノートブックの共有  <a class=\"anchor\" id=\"share-the-notebook\"></a>"
   ]
  },
  {
   "cell_type": "markdown",
   "metadata": {},
   "source": [
    "ノートブックは、ArcGIS Online アカウント内の他のコンテンツと同様に、組織内の他のユーザーと共有したり、公開して共有することができます。他のユーザーが ArcGIS Notebooks にアクセスできる場合は、ノートブックを開いて自分で実行することができます。その際、ノートブックのコピーがそのユーザーの ArcGIS Online コンテンツ内に作成されます。ノートブックの実行が許可されていないユーザーは、ノートブックをダウンロードすることしかできません。ダウンロードされるファイル形式は ipynb (IPython Notebook) で、ArcGIS Pro または Jupyter Notebook などで開くことができます。\n",
    "1. リボンの [共有] ボタンをクリックします。\n",
    "\n",
    "<img src=\"https://raw.githubusercontent.com/Morikawa2483/20251002_arcgis-notebook-handson-review/refs/heads/main/image/14.jpg\" width=800 />"
   ]
  },
  {
   "cell_type": "markdown",
   "metadata": {},
   "source": [
    "2. [ノートブックを共有] パネルが開きます。続けて [共有] ボタンをクリックします。\n",
    "\n",
    "<img src=\"https://raw.githubusercontent.com/Morikawa2483/20251002_arcgis-notebook-handson-review/refs/heads/main/image/15.jpg\" width=400 />"
   ]
  },
  {
   "cell_type": "markdown",
   "metadata": {},
   "source": [
    "3. ノートブックの共有レベルを選択し、[保存] ボタンをクリックします。\n",
    "\n",
    "<img src=\"https://raw.githubusercontent.com/Morikawa2483/20251002_arcgis-notebook-handson-review/refs/heads/main/image/16.jpg\" width=300 />"
   ]
  },
  {
   "cell_type": "markdown",
   "metadata": {},
   "source": [
    "4. ノートブックを保存した後、左上のメニューボタン (≡) をクリックし、[コンテンツ] ボタンをクリックします。\n",
    "\n",
    "<img src=\"https://raw.githubusercontent.com/Morikawa2483/20251002_arcgis-notebook-handson-review/refs/heads/main/image/17.jpg\" width=200 />"
   ]
  },
  {
   "cell_type": "markdown",
   "metadata": {},
   "source": [
    "## ステップ7：ノートブックのダウンロード  <a class=\"anchor\" id=\"downroad-the-notebook\"></a>"
   ]
  },
  {
   "attachments": {},
   "cell_type": "markdown",
   "metadata": {},
   "source": [
    "保存されたノートブックはローカル環境へ保存し、デスクトップや ArcGIS Pro 上で実行することができます。\n",
    "1. コンテンツ ページにて作成中のノートブックをクリックすると、概要ページが開きます。\n",
    "\n",
    "<img src=\"https://raw.githubusercontent.com/Morikawa2483/20251002_arcgis-notebook-handson-review/refs/heads/main/image/18.jpg\" width=600 />"
   ]
  },
  {
   "cell_type": "markdown",
   "metadata": {},
   "source": [
    "2. [ダウンロード] ボタンをクリックします。\n",
    "\n",
    "<img src=\"https://raw.githubusercontent.com/Morikawa2483/20251002_arcgis-notebook-handson-review/refs/heads/main/image/19.jpg\" width=600 />"
   ]
  },
  {
   "cell_type": "markdown",
   "metadata": {
    "heading_collapsed": true
   },
   "source": [
    "## まとめ  <a class=\"anchor\" id=\"summary\"></a>"
   ]
  },
  {
   "cell_type": "markdown",
   "metadata": {
    "hidden": true
   },
   "source": [
    "ハンズオン前半では、ArcGIS Notebooks の基本的な操作方法と ArcGIS Notebooks と ArcGIS API for Python を使用したマップの作成、レイヤーの追加、ArcGIS Online に保存、ノートブックの共有とダウンロードという一般的な GIS ワークフローを完了する方法について学びました。 \n",
    "\n",
    "[ハンズオン後半](./Spatial_Analysis_with_ArcGIS_Notebooks.ipynb)は ArcGIS API for Python を使った解析を体験していただきます。"
   ]
  }
 ],
 "metadata": {
  "esriNotebookRuntime": {
   "notebookRuntimeName": "ArcGIS Notebook Python 3 Standard",
   "notebookRuntimeVersion": "4.0"
  },
  "kernelspec": {
   "display_name": "Python 3 (ipykernel)",
   "language": "python",
   "name": "python3"
  },
  "language_info": {
   "codemirror_mode": {
    "name": "ipython",
    "version": 3
   },
   "file_extension": ".py",
   "mimetype": "text/x-python",
   "name": "python",
   "nbconvert_exporter": "python",
   "pygments_lexer": "ipython3",
   "version": "3.11.11"
  }
 },
 "nbformat": 4,
 "nbformat_minor": 4
}
